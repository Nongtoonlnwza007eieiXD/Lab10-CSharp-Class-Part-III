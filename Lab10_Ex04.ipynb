{
 "cells": [
  {
   "cell_type": "markdown",
   "metadata": {},
   "source": [
    "# Lab 10  Class Part III\n"
   ]
  },
  {
   "cell_type": "markdown",
   "metadata": {},
   "source": [
    "## Ex04  การตรวจสอบค่าที่กำหนดให้กับ Property"
   ]
  },
  {
   "cell_type": "markdown",
   "metadata": {},
   "source": [
    "### การทดลองย่อย 10.4.1 ตรวจสอบช่วงของค่า"
   ]
  },
  {
   "cell_type": "code",
   "execution_count": 1,
   "metadata": {
    "dotnet_interactive": {
     "language": "csharp"
    },
    "polyglot_notebook": {
     "kernelName": "csharp"
    }
   },
   "outputs": [],
   "source": [
    "public class Score\n",
    "{\n",
    "    private int _value;\n",
    "\n",
    "    public int Value\n",
    "    {\n",
    "        get { return _value; }\n",
    "        set\n",
    "        {\n",
    "            if (value >= 0 && value <= 100)\n",
    "            {\n",
    "                _value = value;\n",
    "            }\n",
    "            else\n",
    "            {\n",
    "                throw new ArgumentOutOfRangeException(\"Score must be between 0 and 100.\");\n",
    "            }\n",
    "        }\n",
    "    }\n",
    "}"
   ]
  },
  {
   "cell_type": "markdown",
   "metadata": {},
   "source": [
    "ให้เขียน code เพื่อทำงานดังนี้\n",
    "1. สร้าง object จากคลาส Score\n",
    "2. กำหนดคะแนนในช่วงปกติ\n",
    "3. แสดงคะแนนที่เก็บใน object "
   ]
  },
  {
   "cell_type": "code",
   "execution_count": 2,
   "metadata": {
    "dotnet_interactive": {
     "language": "csharp"
    },
    "polyglot_notebook": {
     "kernelName": "csharp"
    }
   },
   "outputs": [],
   "source": [
    "using System;\n",
    "\n",
    "public class Score\n",
    "{\n",
    "    private int _points;\n",
    "\n",
    "    public int Points\n",
    "    {\n",
    "        get { return _points; }\n",
    "        set\n",
    "        {\n",
    "            if (value < 0 || value > 100) // กำหนดช่วงคะแนนให้อยู่ระหว่าง 0-100\n",
    "            {\n",
    "                Console.WriteLine(\"[Setter] Error: Score must be between 0 and 100.\");\n",
    "            }\n",
    "            else\n",
    "            {\n",
    "                Console.WriteLine($\"[Setter] Assigning Score = {value}\");\n",
    "                _points = value;\n",
    "            }\n",
    "        }\n",
    "    }\n",
    "}\n",
    "\n",
    "class Program\n",
    "{\n",
    "    static void Main()\n",
    "    {\n",
    "        // 1. สร้าง object จากคลาส Score\n",
    "        Score studentScore = new Score();\n",
    "\n",
    "        // 2. กำหนดคะแนนในช่วงปกติ\n",
    "        studentScore.Points = 85; // ทดสอบกำหนดค่าในช่วงปกติ\n",
    "\n",
    "        // 3. แสดงคะแนนที่เก็บใน object\n",
    "        Console.WriteLine($\"[INFO] Student Score: {studentScore.Points}\");\n",
    "    }\n",
    "}\n"
   ]
  },
  {
   "cell_type": "markdown",
   "metadata": {},
   "source": [
    "ให้เขียน code เพื่อทำงานดังนี้\n",
    "1. สร้าง object จากคลาส Score\n",
    "2. กำหนดคะแนนผิดปกติ (เป็นค่าลบ)\n",
    "3. แสดงคะแนนที่เก็บใน object "
   ]
  },
  {
   "cell_type": "code",
   "execution_count": 3,
   "metadata": {
    "polyglot_notebook": {
     "kernelName": "csharp"
    }
   },
   "outputs": [],
   "source": [
    "using System;\n",
    "\n",
    "public class Score\n",
    "{\n",
    "    private int _points;\n",
    "\n",
    "    public int Points\n",
    "    {\n",
    "        get { return _points; }\n",
    "        set\n",
    "        {\n",
    "            if (value < 0 || value > 100) // ป้องกันค่าที่ไม่อยู่ในช่วง 0-100\n",
    "            {\n",
    "                Console.WriteLine(\"[Setter] Error: Score must be between 0 and 100. Setting score to 0.\");\n",
    "                _points = 0; // ตั้งค่าเป็น 0 หากค่าที่รับเข้ามาไม่ถูกต้อง\n",
    "            }\n",
    "            else\n",
    "            {\n",
    "                Console.WriteLine($\"[Setter] Assigning Score = {value}\");\n",
    "                _points = value;\n",
    "            }\n",
    "        }\n",
    "    }\n",
    "}\n",
    "\n",
    "class Program\n",
    "{\n",
    "    static void Main()\n",
    "    {\n",
    "        // 1. สร้าง object จากคลาส Score\n",
    "        Score studentScore = new Score();\n",
    "\n",
    "        // 2. กำหนดคะแนนผิดปกติ (เป็นค่าลบ)\n",
    "        studentScore.Points = -10; // กำหนดค่าลบเพื่อทดสอบระบบตรวจสอบ\n",
    "\n",
    "        // 3. แสดงคะแนนที่เก็บใน object\n",
    "        Console.WriteLine($\"[INFO] Student Score: {studentScore.Points}\");\n",
    "    }\n",
    "}\n",
    " \n"
   ]
  },
  {
   "cell_type": "markdown",
   "metadata": {},
   "source": [
    "### การทดลองย่อย 10.4.2 ตรวจสอบรูปแบบของ String (Regular Expression)"
   ]
  },
  {
   "cell_type": "markdown",
   "metadata": {},
   "source": [
    "Regular Expression หรือ Regex คือรูปแบบที่ใช้ในการจับคู่ข้อความ ชุดของอักขระ หรือโทเค็น\n",
    "\n",
    "รูปแบบเหล่านี้ใช้ในการค้นหาและจัดการข้อความ เช่น การตรวจสอบว่าผู้ใช้ป้อนอีเมลในรูปแบบที่ถูกต้องหรือไม่ หรือการแยกคำสำคัญออกจากบทความ\n",
    "\n",
    "Regular Expression มีประโยชน์อย่างมากในการทำงานกับข้อความ เพราะช่วยให้เราสามารถกำหนดรูปแบบที่ซับซ้อนได้อย่างยืดหยุ่น\n",
    "\n",
    "#### ตัวอย่างการใช้งาน\n",
    "- ตรวจสอบรูปแบบอีเมล\n",
    "- ค้นหาคำที่ขึ้นต้นด้วยตัวอักษร \"A\"\n",
    "- แยกหมายเลขโทรศัพท์ออกจากข้อความ\n",
    "- แทนที่คำบางคำในข้อความ\n",
    "\n",
    "#### หลักการทำงาน\n",
    "Regular Expression ประกอบด้วยตัวอักษรและสัญลักษณ์พิเศษที่ใช้ในการกำหนดรูปแบบ\n",
    "\n",
    "|Expression|ความหมาย|\n",
    "|----------|--------|\n",
    "|ตัวอักษร| จับคู่ตัวอักษรนั้นๆ โดยตรง|\n",
    "|. (จุด)| จับคู่ตัวอักษรใดๆ ก็ได้|\n",
    "|*| จับคู่สิ่งที่อยู่ข้างหน้า 0 ครั้งหรือมากกว่า|\n",
    "|+| จับคู่สิ่งที่อยู่ข้างหน้า 1 ครั้งหรือมากกว่า|\n",
    "|?| จับคู่สิ่งที่อยู่ข้างหน้า 0 หรือ 1 ครั้ง|\n",
    "|[]| จับคู่ตัวอักษรใดๆ ที่อยู่ในวงเล็บ|\n",
    "|()| จับกลุ่มของรูปแบบ|\n",
    "\n",
    "#### ตัวอย่าง Regex\n",
    "\n",
    "|รูปแบบ|Regular Expression|\n",
    "|-----|-----|\n",
    "|ตรวจสอบรูปแบบอีเมล|^[a-zA-Z0-9._%+-]+@[a-zA-Z0-9.-]+\\.[a-zA-Z]{2,}$|\n",
    "|ค้นหาคำที่ขึ้นต้นด้วยตัวอักษร \"A\"|\\bA\\w+\\b|\n",
    "|ตรวจสอบหมายเลขโทรศัพท์ในรูปแบบ XXX-XXX-XXXX|\\bA\\w+\\b|\\d{3}-\\d{3}-\\d{4}|"
   ]
  },
  {
   "cell_type": "code",
   "execution_count": 4,
   "metadata": {
    "dotnet_interactive": {
     "language": "csharp"
    },
    "polyglot_notebook": {
     "kernelName": "csharp"
    }
   },
   "outputs": [],
   "source": [
    "using System.Text.RegularExpressions;\n",
    "\n",
    "public class Email\n",
    "{\n",
    "    private string _address;\n",
    "\n",
    "    public string Address\n",
    "    {\n",
    "        get { return _address; }\n",
    "        set\n",
    "        {\n",
    "            if (IsValidEmail(value))\n",
    "            {\n",
    "                _address = value;\n",
    "            }\n",
    "            else\n",
    "            {\n",
    "                throw new ArgumentException(\"Invalid email address.\");\n",
    "            }\n",
    "        }\n",
    "    }\n",
    "\n",
    "    private bool IsValidEmail(string value)   // ตรวจสอบรูปแบบโดยใช้ Regular Expressions\n",
    "    {\n",
    "        string pattern = @\"^[a-zA-Z0-9._%+-]+@[a-zA-Z0-9.-]+\\.[a-zA-Z]{2,}$\";\n",
    "        return Regex.IsMatch(value, pattern);\n",
    "    }\n",
    "}\n"
   ]
  },
  {
   "cell_type": "markdown",
   "metadata": {},
   "source": [
    "ให้เขียน code เพื่อทำงานดังนี้\n",
    "1. สร้าง object จากคลาส Email\n",
    "2. กำหนด Email ที่ __ถูกต้อง__\n",
    "3. แสดง email address ที่เก็บใน object "
   ]
  },
  {
   "cell_type": "code",
   "execution_count": 5,
   "metadata": {
    "polyglot_notebook": {
     "kernelName": "csharp"
    }
   },
   "outputs": [],
   "source": [
    "using System;\n",
    "using System.Text.RegularExpressions;\n",
    "\n",
    "public class Email\n",
    "{\n",
    "    private string _emailAddress;\n",
    "\n",
    "    public string EmailAddress\n",
    "    {\n",
    "        get { return _emailAddress; }\n",
    "        set\n",
    "        {\n",
    "            if (IsValidEmail(value))\n",
    "            {\n",
    "                Console.WriteLine($\"[Setter] Assigning Email = {value}\");\n",
    "                _emailAddress = value;\n",
    "            }\n",
    "            else\n",
    "            {\n",
    "                Console.WriteLine(\"[Setter] Error: Invalid email format.\");\n",
    "            }\n",
    "        }\n",
    "    }\n",
    "\n",
    "    // เมธอดตรวจสอบรูปแบบอีเมล\n",
    "    private bool IsValidEmail(string email)\n",
    "    {\n",
    "        string pattern = @\"^[^@\\s]+@[^@\\s]+\\.[^@\\s]+$\"; // Regex ตรวจสอบอีเมล\n",
    "        return Regex.IsMatch(email, pattern);\n",
    "    }\n",
    "}\n",
    "\n",
    "class Program\n",
    "{\n",
    "    static void Main()\n",
    "    {\n",
    "        // 1. สร้าง object จากคลาส Email\n",
    "        Email myEmail = new Email();\n",
    "\n",
    "        // 2. กำหนด Email ที่ถูกต้อง\n",
    "        myEmail.EmailAddress = \"example@email.com\"; // ทดสอบกำหนดค่าอีเมลที่ถูกต้อง\n",
    "\n",
    "        // 3. แสดง email address ที่เก็บใน object\n",
    "        Console.WriteLine($\"[INFO] Stored Email: {myEmail.EmailAddress}\");\n",
    "    }\n",
    "}\n"
   ]
  },
  {
   "cell_type": "markdown",
   "metadata": {},
   "source": [
    "ให้เขียน code เพื่อทำงานดังนี้\n",
    "1. สร้าง object จากคลาส Email\n",
    "2. กำหนด Email ที่ __ไม่__ ถูกต้อง\n",
    "3. แสดง email address ที่เก็บใน object "
   ]
  },
  {
   "cell_type": "code",
   "execution_count": 7,
   "metadata": {
    "polyglot_notebook": {
     "kernelName": "csharp"
    }
   },
   "outputs": [],
   "source": [
    "using System;\n",
    "using System.Text.RegularExpressions;\n",
    "\n",
    "public class Email\n",
    "{\n",
    "    private string _emailAddress;\n",
    "\n",
    "    public string EmailAddress\n",
    "    {\n",
    "        get { return _emailAddress; }\n",
    "        set\n",
    "        {\n",
    "            if (IsValidEmail(value))\n",
    "            {\n",
    "                Console.WriteLine($\"[Setter] Assigning Email = {value}\");\n",
    "                _emailAddress = value;\n",
    "            }\n",
    "            else\n",
    "            {\n",
    "                Console.WriteLine(\"[Setter] Error: Invalid email format.\");\n",
    "            }\n",
    "        }\n",
    "    }\n",
    "\n",
    "    // เมธอดตรวจสอบรูปแบบอีเมล\n",
    "    private bool IsValidEmail(string email)\n",
    "    {\n",
    "        string pattern = @\"^[^@\\s]+@[^@\\s]+\\.[^@\\s]+$\"; // Regex ตรวจสอบอีเมล\n",
    "        return Regex.IsMatch(email, pattern);\n",
    "    }\n",
    "}\n",
    "\n",
    "class Program\n",
    "{\n",
    "    static void Main()\n",
    "    {\n",
    "        // 1. สร้าง object จากคลาส Email\n",
    "        Email myEmail = new Email();\n",
    "\n",
    "        // 2. กำหนด Email ที่ไม่ถูกต้อง\n",
    "        myEmail.EmailAddress = \"invalid-email\"; // กำหนดอีเมลที่ไม่ถูกต้อง\n",
    "\n",
    "        // 3. แสดง email address ที่เก็บใน object\n",
    "        Console.WriteLine($\"[INFO] Stored Email: {myEmail.EmailAddress}\");\n",
    "    }\n",
    "}\n"
   ]
  },
  {
   "cell_type": "markdown",
   "metadata": {},
   "source": [
    "### การทดลองย่อย 10.4.3 ตรวจสอบค่า Null หรือ Empty ของ string"
   ]
  },
  {
   "cell_type": "code",
   "execution_count": 8,
   "metadata": {
    "polyglot_notebook": {
     "kernelName": "csharp"
    }
   },
   "outputs": [],
   "source": [
    "public class Name\n",
    "{\n",
    "    private string _firstName;\n",
    "\n",
    "    public string FirstName\n",
    "    {\n",
    "        get { return _firstName; }\n",
    "        set\n",
    "        {\n",
    "            if (!string.IsNullOrEmpty(value))\n",
    "            {\n",
    "                _firstName = value;\n",
    "            }\n",
    "            else\n",
    "            {\n",
    "                throw new ArgumentNullException(\"First name cannot be null or empty.\");\n",
    "            }\n",
    "        }\n",
    "    }\n",
    "}"
   ]
  },
  {
   "cell_type": "markdown",
   "metadata": {},
   "source": [
    "ให้เขียน code เพื่อทำงานดังนี้\n",
    "1. สร้าง object จากคลาส Name\n",
    "2. กำหนดชื่อที่ถูกต้องให้กับ  object.FirstName  \n",
    "3. แสดง  object.FirstName \n",
    "\n",
    "(อย่าลืมรัน code cell ด้านบนก่อน มิฉะนัันจะไม้สามารถใช้งานคลาส Name ได้)"
   ]
  },
  {
   "cell_type": "code",
   "execution_count": 9,
   "metadata": {
    "dotnet_interactive": {
     "language": "csharp"
    },
    "polyglot_notebook": {
     "kernelName": "csharp"
    }
   },
   "outputs": [],
   "source": [
    "using System;\n",
    "\n",
    "public class Name\n",
    "{\n",
    "    public string FirstName { get; set; }\n",
    "}\n",
    "\n",
    "class Program\n",
    "{\n",
    "    static void Main()\n",
    "    {\n",
    "        // 1. สร้าง object จากคลาส Name\n",
    "        Name person = new Name();\n",
    "\n",
    "        // 2. กำหนดชื่อที่ถูกต้องให้กับ object.FirstName\n",
    "        person.FirstName = \"John\"; // กำหนดชื่อที่ถูกต้อง\n",
    "\n",
    "        // 3. แสดง object.FirstName\n",
    "        Console.WriteLine($\"[INFO] First Name: {person.FirstName}\");\n",
    "    }\n",
    "}\n"
   ]
  },
  {
   "cell_type": "markdown",
   "metadata": {},
   "source": [
    "ให้เขียน code เพื่อทำงานดังนี้\n",
    "1. สร้าง object จากคลาส Name\n",
    "2. กำหนด object.FirstName เป็น string.Empty\n",
    "3. แสดง  object.FirstName"
   ]
  },
  {
   "cell_type": "code",
   "execution_count": 10,
   "metadata": {
    "polyglot_notebook": {
     "kernelName": "csharp"
    }
   },
   "outputs": [],
   "source": [
    "using System;\n",
    "\n",
    "public class Name\n",
    "{\n",
    "    public string FirstName { get; set; }\n",
    "}\n",
    "\n",
    "class Program\n",
    "{\n",
    "    static void Main()\n",
    "    {\n",
    "        // 1. สร้าง object จากคลาส Name\n",
    "        Name person = new Name();\n",
    "\n",
    "        // 2. กำหนด object.FirstName เป็น string.Empty\n",
    "        person.FirstName = string.Empty; // กำหนดให้ FirstName เป็นค่า Empty (ไม่มีค่า)\n",
    "\n",
    "        // 3. แสดง object.FirstName\n",
    "        Console.WriteLine($\"[INFO] First Name: '{person.FirstName}'\");\n",
    "    }\n",
    "}\n"
   ]
  },
  {
   "cell_type": "markdown",
   "metadata": {},
   "source": [
    "ให้เขียน code เพื่อทำงานดังนี้\n",
    "1. สร้าง object จากคลาส Name\n",
    "2. แสดง object.FirstName  โดยไม่ต้องกำหนดค่าใดๆ ให้ FirstName"
   ]
  },
  {
   "cell_type": "code",
   "execution_count": 11,
   "metadata": {
    "polyglot_notebook": {
     "kernelName": "csharp"
    }
   },
   "outputs": [],
   "source": [
    "using System;\n",
    "\n",
    "public class Name\n",
    "{\n",
    "    public string FirstName { get; set; }  // Property สำหรับเก็บชื่อ\n",
    "}\n",
    "\n",
    "class Program\n",
    "{\n",
    "    static void Main()\n",
    "    {\n",
    "        // 1. สร้าง object จากคลาส Name\n",
    "        Name person = new Name();\n",
    "\n",
    "        // 2. แสดง object.FirstName โดยไม่ต้องกำหนดค่าใดๆ ให้ FirstName\n",
    "        Console.WriteLine($\"[INFO] First Name: '{person.FirstName}'\");\n",
    "    }\n",
    "}\n"
   ]
  }
 ],
 "metadata": {
  "kernelspec": {
   "display_name": ".NET (C#)",
   "language": "C#",
   "name": ".net-csharp"
  },
  "polyglot_notebook": {
   "kernelInfo": {
    "defaultKernelName": "csharp",
    "items": [
     {
      "aliases": [],
      "languageName": "csharp",
      "name": "csharp"
     }
    ]
   }
  }
 },
 "nbformat": 4,
 "nbformat_minor": 2
}
